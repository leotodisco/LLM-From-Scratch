{
 "cells": [
  {
   "cell_type": "code",
   "execution_count": null,
   "id": "0bc01a6e",
   "metadata": {},
   "outputs": [],
   "source": [
    "import pickle\n",
    "import os\n",
    "import pandas as pd\n",
    "import matplotlib.pyplot as plt"
   ]
  },
  {
   "cell_type": "code",
   "execution_count": null,
   "id": "ded2cf6c",
   "metadata": {},
   "outputs": [],
   "source": [
    "with open(\"../output/messages_df.pkl\", \"rb\") as in_file:\n",
    "    df = pickle.load(in_file)"
   ]
  },
  {
   "cell_type": "markdown",
   "id": "fc65cba1",
   "metadata": {},
   "source": [
    "## 1. Find the sender that sent more messages"
   ]
  },
  {
   "cell_type": "code",
   "execution_count": null,
   "id": "326a1f52",
   "metadata": {},
   "outputs": [],
   "source": [
    "# delete malformed messages\n",
    "df = df[~df['sender'].str.contains(r'\\n', regex=True)]\n",
    "df = df[~df['sender'].str.contains('3.2α')]"
   ]
  },
  {
   "cell_type": "code",
   "execution_count": null,
   "id": "6f159e79",
   "metadata": {},
   "outputs": [],
   "source": [
    "all_senders = df[\"sender\"].unique()\n",
    "all_senders"
   ]
  },
  {
   "cell_type": "markdown",
   "id": "df394901",
   "metadata": {},
   "source": [
    "Number of messages for each sender"
   ]
  },
  {
   "cell_type": "code",
   "execution_count": null,
   "id": "fa9c7883",
   "metadata": {},
   "outputs": [],
   "source": [
    "sender_dict = {}\n",
    "for sender in all_senders:\n",
    "    sender_dict[sender] = len(df[df[\"sender\"] == sender])\n",
    "\n",
    "sender_dict"
   ]
  },
  {
   "cell_type": "code",
   "execution_count": null,
   "id": "86ae5ece",
   "metadata": {},
   "outputs": [],
   "source": [
    "fig, ax = plt.subplots(figsize=(6, 3))\n",
    "ax.bar(sender_dict.keys(), sender_dict.values())\n",
    "ax.set_xticklabels(sender_dict.keys(), rotation=45, ha='right')\n",
    "ax.set_ylabel(\"Numero di messaggi\")\n",
    "ax.set_title(\"Messaggi per mittente\")\n",
    "plt.tight_layout()\n",
    "\n",
    "plt.show()"
   ]
  },
  {
   "cell_type": "code",
   "execution_count": null,
   "id": "655b3d31",
   "metadata": {},
   "outputs": [],
   "source": [
    "msg_per_day = df.groupby(df['timestamp'].dt.date).size()\n",
    "\n",
    "plt.figure(figsize=(12, 6))\n",
    "msg_per_day.plot(kind='line')\n",
    "plt.title(\"Numero di messaggi per giorno\")\n",
    "plt.xlabel(\"Data\")\n",
    "plt.ylabel(\"Numero di messaggi\")\n",
    "plt.xticks(rotation=45)\n",
    "plt.tight_layout()\n",
    "plt.show()"
   ]
  },
  {
   "cell_type": "code",
   "execution_count": null,
   "id": "21e830c5",
   "metadata": {},
   "outputs": [],
   "source": [
    "# Day with max number of messages\n",
    "\n",
    "max_nmessages = msg_per_day.max()\n",
    "timestamp = msg_per_day[msg_per_day == max_nmessages]\n",
    "timestamp"
   ]
  },
  {
   "cell_type": "code",
   "execution_count": null,
   "id": "034abe05",
   "metadata": {},
   "outputs": [],
   "source": [
    "from datetime import date\n",
    "# Day with min number of messages\n",
    "\n",
    "min_n_messages = msg_per_day.min()\n",
    "timestamp = msg_per_day[msg_per_day == min_n_messages]\n",
    "\n",
    "timestamp"
   ]
  },
  {
   "cell_type": "code",
   "execution_count": null,
   "id": "c0b16d6b",
   "metadata": {},
   "outputs": [],
   "source": [
    "for sender in sender_dict.keys():\n",
    "    sender_messages = df[df[\"sender\"] == sender]\n",
    "    msg_per_day = sender_messages.groupby(sender_messages['timestamp'].dt.date).size()\n",
    "    min_n_messages = msg_per_day.min()\n",
    "    min_timestamp = msg_per_day[msg_per_day == min_n_messages]\n",
    "    max_n_messages = msg_per_day.max()\n",
    "    max_timestamp = msg_per_day[msg_per_day == max_n_messages]\n",
    "\n",
    "    # print(f\"\"\"{sender} MIN = {min_timestamp} MAX = {max_timestamp}\\n\"\"\")\n",
    "    "
   ]
  },
  {
   "cell_type": "code",
   "execution_count": null,
   "id": "59853150",
   "metadata": {},
   "outputs": [],
   "source": [
    "import nltk\n",
    "import re\n",
    "from collections import Counter\n",
    "from nltk.corpus import stopwords\n",
    "\n",
    "nltk.download('stopwords')\n",
    "stop_words = set(stopwords.words('italian'))\n",
    "\n",
    "def preprocess(text):\n",
    "    text = text.lower()  # lowercase\n",
    "    text = re.sub(r'\\d+', '', text)  # rimuove numeri\n",
    "    text = re.sub(r'[^\\w\\s]', '', text)  # rimuove punteggiatura\n",
    "    tokens = text.split()  # tokenizzazione semplice\n",
    "    tokens = [word for word in tokens if word not in stop_words]  # rimuove stopwords\n",
    "    return tokens\n",
    "\n",
    "tokens_series = df['message'].dropna().apply(preprocess)\n",
    "all_tokens = [token for sublist in tokens_series for token in sublist if len(token) > 3]"
   ]
  },
  {
   "cell_type": "code",
   "execution_count": null,
   "id": "3fae4c5f",
   "metadata": {},
   "outputs": [],
   "source": [
    "word_freq = Counter(all_tokens)\n",
    "most_common_words = word_freq.most_common(10)\n",
    "\n",
    "most_common_words"
   ]
  },
  {
   "cell_type": "code",
   "execution_count": null,
   "id": "152fa8d1",
   "metadata": {},
   "outputs": [],
   "source": [
    "from wordcloud import WordCloud\n",
    "import matplotlib.pyplot as plt\n",
    "\n",
    "wordcloud = WordCloud(width=800, height=400, background_color='white').generate_from_frequencies(word_freq)\n",
    "\n",
    "plt.figure(figsize=(12, 6))\n",
    "plt.imshow(wordcloud, interpolation='bilinear')\n",
    "plt.axis('off')\n",
    "plt.show()\n"
   ]
  }
 ],
 "metadata": {
  "kernelspec": {
   "display_name": "env",
   "language": "python",
   "name": "python3"
  },
  "language_info": {
   "codemirror_mode": {
    "name": "ipython",
    "version": 3
   },
   "file_extension": ".py",
   "mimetype": "text/x-python",
   "name": "python",
   "nbconvert_exporter": "python",
   "pygments_lexer": "ipython3",
   "version": "3.11.11"
  }
 },
 "nbformat": 4,
 "nbformat_minor": 5
}
