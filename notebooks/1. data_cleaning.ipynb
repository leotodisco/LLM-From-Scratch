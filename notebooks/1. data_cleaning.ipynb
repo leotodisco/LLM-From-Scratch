{
 "cells": [
  {
   "cell_type": "markdown",
   "id": "0afe8a00",
   "metadata": {},
   "source": [
    "# Data Extraction and Cleaning Step"
   ]
  },
  {
   "cell_type": "code",
   "execution_count": 6,
   "id": "5132e087",
   "metadata": {},
   "outputs": [],
   "source": [
    "import pandas as pd\n",
    "import re\n",
    "import os\n",
    "import pickle\n",
    "\n",
    "pd.set_option('display.max_colwidth', None)"
   ]
  },
  {
   "cell_type": "markdown",
   "id": "cde7f824",
   "metadata": {},
   "source": [
    "## Read the txt file and generate a pandas dataframe"
   ]
  },
  {
   "cell_type": "code",
   "execution_count": 7,
   "id": "81f626dc",
   "metadata": {},
   "outputs": [],
   "source": [
    "# Define Patterns for filtering\n",
    "image_omitted_message = \"‎immagine omessa\"\n",
    "omitted_video_message = \"‎video omesso\"\n",
    "one_view_video_message = \"‎Hai ricevuto un video visualizzabile una volta. Per garantire una maggiore privacy, potrai aprirlo soltanto sul telefono.\"\n",
    "sticker_not_included_message = \"‎sticker non incluso\"\n",
    "deleted_nessage = \"‎Questo messaggio è stato eliminato.\"\n",
    "omitted_audio_message = \"‎audio omesso\"\n",
    "one_view_message = \"‎Hai inviato un messaggio visualizzabile una volta. Per garantire una maggiore privacy, potrai aprirlo soltanto sul telefono.\"\n",
    "excluded_gif_message = \"‎GIF esclusa\"\n",
    "edited_message = \"‎<Questo messaggio è stato modificato>\"\n",
    "error_message = \"‎In attesa del messaggio. Potrebbe volerci un po' di tempo.\"\n",
    "one_view_image = \"Hai ricevuto una foto visualizzabile una volta. Per garantire una maggiore privacy, potrai aprirla soltanto sul telefono.\"\n",
    "you_admin_deleted_message = \"‎Hai eliminato questo messaggio come amministratore.\"\n",
    "admin_deleted_message = \"‎Questo messaggio è stato eliminato dall'amministratore\"\n",
    "one_listen_audio = \"‎Hai ricevuto un messaggio vocale riproducibile una volta.\"\n",
    "is_pdf = \".pdf\"\n",
    "missed_call = \"‎Videochiamata persa\"\n",
    "url_pattern = r'http[s]?://(?:[a-zA-Z]|[0-9]|[$-_@.&+]|[!*\\(\\),]|(?:%[0-9a-fA-F][0-9a-fA-F]))+'"
   ]
  },
  {
   "cell_type": "code",
   "execution_count": 12,
   "id": "8795d5ed",
   "metadata": {},
   "outputs": [],
   "source": [
    "filtered_lines = []\n",
    "\n",
    "with open(\"../data/full_chat.txt\", \"r\", encoding=\"utf-8\") as input_file:\n",
    "    lines = input_file.readlines()\n",
    "    \n",
    "for line in lines:\n",
    "    if (#\"cccccccc: \" in line and # masked the sender name for privacy\n",
    "        image_omitted_message not in line and\n",
    "        sticker_not_included_message not in line and\n",
    "        deleted_nessage not in line and \n",
    "        omitted_audio_message not in line and \n",
    "        excluded_gif_message not in line and\n",
    "        one_view_message not in line and\n",
    "        one_view_image not in line and\n",
    "        one_view_video_message not in line and \n",
    "        omitted_video_message not in line and\n",
    "        you_admin_deleted_message not in line and\n",
    "        admin_deleted_message not in line and\n",
    "        error_message not in line and\n",
    "        is_pdf not in line and\n",
    "        missed_call not in line and\n",
    "        one_listen_audio not in line and\n",
    "        not re.search(url_pattern, line)\n",
    "        ):\n",
    "        line = line.replace(edited_message, \"\").strip()\n",
    "        filtered_lines.append(line)\n",
    "\n",
    "pattern = r'\\[(\\d{2}/\\d{2}/\\d{2}, \\d{2}:\\d{2}:\\d{2})\\] (.*?): (.*?)(?=\\n\\[\\d{2}/\\d{2}/\\d{2}, \\d{2}:\\d{2}:\\d{2}\\]|\\Z)'\n",
    "content = '\\n'.join(filtered_lines)\n",
    "messages = re.findall(pattern, content, re.DOTALL)\n",
    "\n",
    "df = pd.DataFrame(messages, columns=['timestamp', 'sender', 'message'])\n",
    "df['timestamp'] = pd.to_datetime(df['timestamp'], format='%d/%m/%y, %H:%M:%S')\n",
    "\n",
    "#df"
   ]
  },
  {
   "cell_type": "markdown",
   "id": "4e1e7b23",
   "metadata": {},
   "source": [
    "## Export Text Sequence for Custom Tokenizer"
   ]
  },
  {
   "cell_type": "code",
   "execution_count": 9,
   "id": "6a0c0695",
   "metadata": {},
   "outputs": [],
   "source": [
    "text_sequence = \" \".join(df['message'].values)\n",
    "\n",
    "len(text_sequence)\n",
    "\n",
    "output_path = \"../output/messages.txt\"\n",
    "\n",
    "with open(output_path, \"w\") as f:\n",
    "    f.write(text_sequence)"
   ]
  },
  {
   "cell_type": "markdown",
   "id": "6993e6e1",
   "metadata": {},
   "source": [
    "Export the dataframe as pickle for further analysis"
   ]
  },
  {
   "cell_type": "code",
   "execution_count": 11,
   "id": "565a6e88",
   "metadata": {},
   "outputs": [],
   "source": [
    "output_path = \"../output/messages_df.pkl\"\n",
    "with open(output_path, \"wb\") as out_file:\n",
    "    pickle.dump(df, out_file)"
   ]
  }
 ],
 "metadata": {
  "kernelspec": {
   "display_name": "env",
   "language": "python",
   "name": "python3"
  },
  "language_info": {
   "codemirror_mode": {
    "name": "ipython",
    "version": 3
   },
   "file_extension": ".py",
   "mimetype": "text/x-python",
   "name": "python",
   "nbconvert_exporter": "python",
   "pygments_lexer": "ipython3",
   "version": "3.11.11"
  }
 },
 "nbformat": 4,
 "nbformat_minor": 5
}
